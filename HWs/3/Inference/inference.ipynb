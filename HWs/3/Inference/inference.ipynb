{
 "cells": [
  {
   "cell_type": "markdown",
   "metadata": {},
   "source": [
    "---"
   ]
  },
  {
   "cell_type": "markdown",
   "metadata": {},
   "source": [
    "# Q1 (40 Points)"
   ]
  },
  {
   "cell_type": "markdown",
   "metadata": {},
   "source": [
    "<font size=4>\n",
    "Author: Sina Elahimanesh\n",
    "\t\t\t<br/>\n",
    "                <font color=red>\n",
    "Please run all the cells.\n",
    "     </font>\n",
    "</font>\n",
    "                <br/>\n",
    "    </div>"
   ]
  },
  {
   "cell_type": "markdown",
   "metadata": {
    "collectable": true
   },
   "source": [
    "# Sampling in Bayesian Network"
   ]
  },
  {
   "cell_type": "markdown",
   "metadata": {},
   "source": [
    "In this assignment, we will implement diffrent methods of sampling and try to compare the methods by varying queries and number of samples. In the next section you will implement Bayesian Network as a Python class with these methods:\n",
    "\n",
    "* CPT: returns conditional probability table of nodes\n",
    "* PMF: returns probability mass function of given query with value enumeration\n",
    "* Sampling: implementation of different sampling methods\n",
    "    \n",
    "We will use following BN in this problem."
   ]
  },
  {
   "cell_type": "markdown",
   "metadata": {},
   "source": [
    "<img src=\"Images/BN.png\" width=1300 height=650 />"
   ]
  },
  {
   "cell_type": "code",
   "execution_count": null,
   "metadata": {
    "collectable": true
   },
   "outputs": [],
   "source": [
    "# import packages\n",
    "import numpy as np\n",
    "import pandas as pd\n",
    "import pickle as pkl\n",
    "from tqdm import tqdm\n",
    "from matplotlib import pyplot as plt"
   ]
  },
  {
   "cell_type": "code",
   "execution_count": null,
   "metadata": {
    "collectable": true
   },
   "outputs": [],
   "source": [
    "from inference import BN"
   ]
  },
  {
   "cell_type": "code",
   "execution_count": null,
   "metadata": {
    "collectable": true
   },
   "outputs": [],
   "source": [
    "\"\"\"\n",
    "    define graph here based on the diagram of the Bayes Net\n",
    "\"\"\"\n",
    "# TODO: define graph\n",
    "graph = {   'A':[[],['B','C']],\n",
    "            'B':[['A'],['E','D']],\n",
    "            'C':[['A','E'],['F']],\n",
    "            'D':[['B'],['F']],\n",
    "            'E':[['B'],['C']],\n",
    "            'F':[['C','D'],[]]\n",
    "            }"
   ]
  },
  {
   "cell_type": "code",
   "execution_count": null,
   "metadata": {
    "collectable": true
   },
   "outputs": [],
   "source": [
    "\"\"\"\n",
    "    define CPT here based on the diagram of the Bayes Net\n",
    "\"\"\"\n",
    "# TODO: define CPT\n",
    "CPT = { 'A':[0.2, 0.8],\n",
    "        'B':[0.1, 0.7, 0.9, 0.3],\n",
    "        'C':[0.4, 0.7, 0.95, 0.9, 0.6, 0.3, 0.05, 0.1],\n",
    "        'D':[0.75, 0.8, 0.25, 0.2],\n",
    "        'E':[0.7, 0.85, 0.3, 0.15],\n",
    "        'F':[0.3, 0.5, 0.85, 0.95, 0.7, 0.5, 0.15, 0.05]\n",
    "        }"
   ]
  },
  {
   "cell_type": "markdown",
   "metadata": {},
   "source": [
    "In this part you will compare sampling results with real probabilities for these settings:\n",
    "\n",
    "* query: $P(F=1|B=1,C=0)$ , $P(F=0,E=1|A=1,D=0)$\n",
    "* number of samples: 100, 500, 1000, 3000, 10000, 50000\n",
    "\n",
    "First find the probabilities with inference methods, then find the approximate probabilities for the queries with sampling methods with different number of samples. At the end, you will plot errors of diffrent methods by number of samples."
   ]
  },
  {
   "cell_type": "code",
   "execution_count": null,
   "metadata": {
    "collectable": true
   },
   "outputs": [],
   "source": [
    "random.seed(5)\n",
    "bayes_net = BN(graph, CPT)\n",
    "num_samples = [100, 500, 1000, 3000, 10000, 50000]\n",
    "sampling_methods = ['Prior', 'Rejection', 'Likelihood Weighting', 'Gibbs']\n",
    "def plot(title, x, y, xlabel, ylabel):\n",
    "    plt.xlabel(xlabel)\n",
    "    plt.ylabel(ylabel)\n",
    "    plt.title(title)\n",
    "    plt.scatter(x, y)\n",
    "    for i, j in zip(x, y):\n",
    "        plt.text(i, j, '({}, {})'.format(i, j))\n",
    "    plt.show()\n",
    "\n",
    "    \n",
    "def comparing_results(query, evidence):\n",
    "    prob = bayes_net.pmf(query, evidence)\n",
    "    for method in sampling_methods: \n",
    "        error_sampling = [round(bayes_net.sampling(query, evidence, method, num)-prob, 5) for num in num_samples]\n",
    "        plot(method, num_samples, error_sampling, 'number of samples', 'errors')"
   ]
  },
  {
   "cell_type": "code",
   "execution_count": null,
   "metadata": {},
   "outputs": [],
   "source": [
    "random.seed(5)\n",
    "query = {'F': 1}\n",
    "evidence = {'B': 1, 'C': 0}\n",
    "comparing_results(query, evidence)"
   ]
  },
  {
   "cell_type": "code",
   "execution_count": null,
   "metadata": {},
   "outputs": [],
   "source": [
    "random.seed(5)\n",
    "query = {'F': 0, 'E':1}\n",
    "evidence = {'A': 1, 'D': 0}\n",
    "comparing_results(query, evidence)"
   ]
  },
  {
   "cell_type": "markdown",
   "metadata": {},
   "source": [
    "For Gibbs sampling, try diffrent burnin values and report the accuracy (or error)."
   ]
  },
  {
   "cell_type": "code",
   "execution_count": null,
   "metadata": {
    "collectable": true
   },
   "outputs": [],
   "source": [
    "random.seed(5)\n",
    "query = {'C': 0, 'B': 1}\n",
    "evidence = {'F': 1, 'D': 0}\n",
    "prob = bayes_net.pmf(query, evidence)\n",
    "burnin_values = [100, 200, 500, 1000, 3000, 10000]\n",
    "error_sampling = [round(bayes_net.sampling(query, evidence, 'Gibbs', 10000, num_burnin)-prob, 5) for num_burnin in burnin_values]\n",
    "plot('Gibbs sampling for diffrent burnin values', burnin_values, error_sampling, 'num_burnin','error')"
   ]
  }
 ],
 "metadata": {
  "kernelspec": {
   "display_name": "Python 3",
   "language": "python",
   "name": "python3"
  },
  "language_info": {
   "codemirror_mode": {
    "name": "ipython",
    "version": 3
   },
   "file_extension": ".py",
   "mimetype": "text/x-python",
   "name": "python",
   "nbconvert_exporter": "python",
   "pygments_lexer": "ipython3",
   "version": "3.10.5 (tags/v3.10.5:f377153, Jun  6 2022, 16:14:13) [MSC v.1929 64 bit (AMD64)]"
  },
  "vscode": {
   "interpreter": {
    "hash": "4a700059dc7a096dd4f4890f5dcc2f87ca5e905804ecea300fbcc0e677f37371"
   }
  }
 },
 "nbformat": 4,
 "nbformat_minor": 4
}
