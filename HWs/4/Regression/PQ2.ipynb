{
 "cells": [
  {
   "cell_type": "markdown",
   "id": "fbf17c1b",
   "metadata": {},
   "source": [
    "#### Allowed packages: Pandas, matplotlib, seaborn, and numpy. Sklearn is allowed only for getting the dataset."
   ]
  },
  {
   "cell_type": "code",
   "execution_count": 1,
   "id": "35fb37c3",
   "metadata": {},
   "outputs": [],
   "source": [
    "import pandas as pd\n",
    "import numpy as np\n",
    "import matplotlib.pyplot as plt\n",
    "import seaborn as sns\n",
    "import sklearn as sk\n",
    "from sklearn.model_selection import train_test_split\n",
    "from helper import *"
   ]
  },
  {
   "cell_type": "markdown",
   "id": "899c535e",
   "metadata": {},
   "source": [
    "# some data processing and feature analysis\n",
    "\n",
    "<li> load boston house dataset </li>\n",
    "<li> split train and test with ratio 1 to 3 </li>\n",
    "<li> plot the target value based on 13 different features and recognize the correlation between features and\n",
    "the target values. talk about them and their meanings.</li>"
   ]
  },
  {
   "cell_type": "code",
   "execution_count": 2,
   "id": "d90b6249",
   "metadata": {},
   "outputs": [],
   "source": [
    "data,X,y = get_data_normalized()\n",
    "X_train, X_test, y_train, y_test = split_data(X,y,0.25)"
   ]
  },
  {
   "cell_type": "markdown",
   "id": "10e6a0d8",
   "metadata": {},
   "source": [
    "## close form of Linear Regression\n",
    "Minimize \n",
    "$$\n",
    "\\frac{1}{2} (Y-\\phi W)^T(Y-\\phi W) + \\frac{1}{2} \\lambda W^TW\n",
    "$$\n",
    "<li> 1-write down close form of linear regression </li>\n",
    "<li> 2-now use this close form to obtain good weight for this problem </li>\n",
    "<li> 3-Plot the target value and the predicted value based on ‘LSTAT’, ‘DIS’, and any other\n",
    "features so that you can see how the distributions vary</li>\n",
    "<li> 4-plot regularization - weights_norm with lambda between 0 to 0.1 with step 0.005 </li>\n",
    "<li> 5-plot regularization - test_error with lambda between 0 to 0.1 with step 0.005 </li>\n",
    "<li> 6-explain effect of regularization </li>\n",
    "<li> 7-add square of each feature to data set and repeat 4,5,6</li>\n",
    "<li> 8-add square and power of three of each feature to data set and repeat 4,5,6</li>\n",
    "<li> compare part $7^{th}$ test error and previous one <b>explain how 7 and 8 are helping model to do better work </li>\n",
    "    \n"
   ]
  },
  {
   "cell_type": "code",
   "execution_count": 4,
   "id": "2da21d7c",
   "metadata": {},
   "outputs": [],
   "source": [
    "#this is just template you are free to implement is however you want. add many cell as you wish\n",
    "class LinearRegressionModel: #phi is phi = lambda X : np.c_[np.ones(X.shape[0]),X] for adding bias term to data or \n",
    "    # any other features to data (this is just suggestion you are free to do whatever you want.)\n",
    "    def __init__(self,phi):\n",
    "        pass\n",
    "    \n",
    "\n",
    "    def fit(self,X,y,regularization):\n",
    "        \"\"\"\n",
    "        get X and y train and learn the parameter by the equation.\n",
    "    \n",
    "        \"\"\"\n",
    "        pass\n",
    "    def evaluate(self,X,y):\n",
    "        \"\"\"\n",
    "        get X and y and calculate error.\n",
    "        \"\"\"\n",
    "        pass\n",
    "    def transform(self,X):\n",
    "        \"\"\"\n",
    "        get X and calculate yhat as predicted values.\n",
    "    \n",
    "        \"\"\"\n",
    "        pass\n",
    "    \n",
    "    def get_param(self):\n",
    "        \"return w \"\n",
    "        pass"
   ]
  },
  {
   "cell_type": "markdown",
   "id": "06193a7c",
   "metadata": {},
   "source": [
    "# gradient descent with best learning rate"
   ]
  },
  {
   "cell_type": "markdown",
   "id": "f8ac9103",
   "metadata": {},
   "source": [
    "Minimize \n",
    "$$\n",
    "\\frac{1}{2} (Y-\\phi W)^T(Y-\\phi W) + \\frac{1}{2} \\lambda W^TW\n",
    "$$\n",
    "<li> 1-write down gradient descent update formulation </li>\n",
    "<li> 2-use hessian matrix to obtain learning rate instead of manually set it. for better underestanding read about newton raphson method</li>\n",
    "<li> 3-Plot the target value and the predicted value based on ‘LSTAT’, ‘DIS’, and any other\n",
    "features so that you can see how the distributions vary</li>\n",
    "<li> 4-plot regularization - weights_norm with lambda between 0 to 10 with step 0.1 </li>\n",
    "<li> 5-plot regularization - test_error with lambda between 0 to 10 with step 0.1 </li>\n",
    "<li> 6-explain effect of regularization </li>\n",
    "<li> 7-add square of each feature to data set and repeat 4,5,6</li>\n",
    "<li> 8-add square and power of three of each feature to data set and repeat 4,5,6</li>\n",
    "<li> compare part $7^{th}$ test error and previous one <b>explain how 7 and 8 are helping model to do better work </li>\n",
    "    "
   ]
  },
  {
   "cell_type": "code",
   "execution_count": 10,
   "id": "772cc0d0",
   "metadata": {},
   "outputs": [],
   "source": [
    "data,X,y = get_data_normalized()\n",
    "X_train, X_test, y_train, y_test = split_data(X,y,0.25)"
   ]
  },
  {
   "cell_type": "code",
   "execution_count": 11,
   "id": "2bd6c21f",
   "metadata": {},
   "outputs": [],
   "source": [
    "#this is just template you are free to implement is however you want.\n",
    "class LinearRegressionModel:#phi is phi = lambda X : np.c_[np.ones(X.shape[0]),X] for adding bias term to data or \n",
    "    # any other features to data (this is just suggestion you are free to do whatever you want.)\n",
    "    def __init__(self,phi):\n",
    "        pass\n",
    "    \n",
    "    def fit(self,X,y,regularization,steps=10):\n",
    "        \"\"\"\n",
    "        get X and y train and learn the parameter by the gradient descent.\n",
    "    \n",
    "        \"\"\"\n",
    "        pass\n",
    "    def evaluate(self,X,y):\n",
    "        \"\"\"\n",
    "        get X and y and calculate error.\n",
    "        \"\"\"\n",
    "        pass\n",
    "    def transform(self,X):\n",
    "        \"\"\"\n",
    "        get X and calculate Phi(X)W as predicted values.\n",
    "    \n",
    "        \"\"\"\n",
    "        pass\n",
    "    \n",
    "    def get_param(self):\n",
    "        \"return w \"\n",
    "        pass"
   ]
  }
 ],
 "metadata": {
  "kernelspec": {
   "display_name": "Python 3 (ipykernel)",
   "language": "python",
   "name": "python3"
  },
  "language_info": {
   "codemirror_mode": {
    "name": "ipython",
    "version": 3
   },
   "file_extension": ".py",
   "mimetype": "text/x-python",
   "name": "python",
   "nbconvert_exporter": "python",
   "pygments_lexer": "ipython3",
   "version": "3.10.4"
  }
 },
 "nbformat": 4,
 "nbformat_minor": 5
}
