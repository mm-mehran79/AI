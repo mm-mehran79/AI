{
  "nbformat": 4,
  "nbformat_minor": 0,
  "metadata": {
    "colab": {
      "provenance": [],
      "collapsed_sections": [
        "qlwXkss8T_Nl"
      ]
    },
    "kernelspec": {
      "name": "python3",
      "display_name": "Python 3"
    },
    "language_info": {
      "name": "python"
    }
  },
  "cells": [
    {
      "cell_type": "markdown",
      "source": [
        "<div align=center>\n",
        "\t\t\n",
        "<p></p>\n",
        "<p></p>\n",
        "<font size=5>\n",
        "In the Name of God\n",
        "<font/>\n",
        "<p></p>\n",
        " <br/>\n",
        "    <br/>\n",
        "    <br/>\n",
        "<font color=#FF7500>\n",
        "Sharif University of Technology - Departmenet of Computer Engineering\n",
        "</font>\n",
        "<p></p>\n",
        "<font color=blue>\n",
        "Artifical Intelligence - Dr. Mohammad Hossein Rohban\n",
        "</font>\n",
        "<br/>\n",
        "<br/>\n",
        "Fall 2022\n",
        "\n",
        "</div>\n",
        "\n",
        "<hr/>\n",
        "\t\t<div align=center>\n",
        "\t\t    <font color=red size=6>\n",
        "\t\t\t    <br />\n",
        "Practical Assignment 3 <br>\n",
        "American Sign Language Image Classification\n",
        "            \t<br/>\n",
        "\t\t\t</font>\n",
        "    <br/>\n",
        "    <br/>\n",
        "<font size=4>\n",
        "\t\t\t<br/><br/>\n",
        "Deadline:  \n",
        "                <br/><b>\n",
        "              Cheating is Strongly Prohibited\n",
        "                </b><br/><br/>\n",
        "                <font color=red>\n",
        "Please run all the cells.\n",
        "     </font>\n",
        "</font>\n",
        "<br>\n",
        "<font size=3 color=grey>\n",
        "Author: Sayeh Jarollahi\n",
        "</font>\n",
        "                <br/>\n",
        "    </div>"
      ],
      "metadata": {
        "id": "KAt9Bvb8nboz"
      }
    },
    {
      "cell_type": "code",
      "source": [
        "# Set your student number\n",
        "student_number = 99000000\n",
        "Name = ''\n",
        "Last_Name = ''"
      ],
      "metadata": {
        "id": "kMDnnbgAnnyg"
      },
      "execution_count": null,
      "outputs": []
    },
    {
      "cell_type": "markdown",
      "source": [
        "In this question, you will train a neural network for classifying sign language images. The American  Sign Language (ASL) dataset consists of 2515 images from different numbers and alphabets. The images are in RGB format and are not the same size. The dataset is classified into 36 classes (10 numbers and 26 alphabets). \n",
        "\n",
        "You will need to train a model to classify this dataset into different categories. You are allowed to use MLP as well as CNN networks. \n",
        "\n",
        "**Grading Policy:** For a full mark on this assignment, your notebook should be completely runnable by the TA. Additionally, you must reach an accuracy of %96 on the test data.\n",
        "\n",
        "It is highly recommended to use google colab and utilize its GPUs. However, if you want to run the notebook locally, you can reach and download the dataset in this [link](https://drive.google.com/file/d/11_4-N8EdtoLPiW3YyJ840CXM0FckO1e5/view?usp=share_link).\n",
        "\n"
      ],
      "metadata": {
        "id": "1eHRwidVEIR0"
      }
    },
    {
      "cell_type": "markdown",
      "source": [
        "## Setup\n"
      ],
      "metadata": {
        "id": "TiYNQh88NU5w"
      }
    },
    {
      "cell_type": "code",
      "source": [
        "import numpy as np\n",
        "import pandas as pd\n",
        "import matplotlib.pyplot as plt\n",
        "from matplotlib.image import imread\n",
        "import cv2\n",
        "import random\n",
        "import os\n",
        "\n",
        "from PIL import Image\n",
        "from sklearn.model_selection import train_test_split\n",
        "from IPython.display import clear_output\n",
        "\n",
        "import torch\n",
        "from torchvision import transforms\n",
        "from torch.utils.data import Dataset, DataLoader, random_split\n",
        "from torch import nn\n",
        "from q1_helper_code import get_files\n",
        "\n",
        "#########################################\n",
        "#                                       #\n",
        "#  import other necessery packages here #\n",
        "#                                       #\n",
        "#########################################"
      ],
      "metadata": {
        "id": "trQj0pq0lQZ7"
      },
      "execution_count": 9,
      "outputs": []
    },
    {
      "cell_type": "code",
      "source": [
        "# NOTE: It is highly recommended to use colab GPUs!\n",
        "device = torch.device('cuda' if torch.cuda.is_available() else 'cpu')\n",
        "device"
      ],
      "metadata": {
        "id": "REOljmCebLZD"
      },
      "execution_count": null,
      "outputs": []
    },
    {
      "cell_type": "markdown",
      "source": [
        "## Download and unzip the dataset\n"
      ],
      "metadata": {
        "id": "2WXsvhdOObjP"
      }
    },
    {
      "cell_type": "code",
      "source": [
        "! wget --load-cookies /tmp/cookies.txt \"https://docs.google.com/uc?export=download&confirm=$(wget --quiet --save-cookies /tmp/cookies.txt --keep-session-cookies --no-check-certificate 'https://docs.google.com/uc?export=download&id=11_4-N8EdtoLPiW3YyJ840CXM0FckO1e5' -O- | sed -rn 's/.*confirm=([0-9A-Za-z_]+).*/\\1\\n/p')&id=11_4-N8EdtoLPiW3YyJ840CXM0FckO1e5\" -O asl_dataset.zip && rm -rf /tmp/cookies.txt\n",
        "! unzip asl_dataset.zip\n"
      ],
      "metadata": {
        "id": "jIXL_lcII62y"
      },
      "execution_count": null,
      "outputs": []
    },
    {
      "cell_type": "code",
      "source": [
        "main_dir = \"asl_dataset/asl_dataset\"\n",
        "class_dirs = os.listdir(main_dir)"
      ],
      "metadata": {
        "id": "OpoIgAyYaXDv"
      },
      "execution_count": null,
      "outputs": []
    },
    {
      "cell_type": "markdown",
      "source": [
        "## Transform \n",
        "\n",
        "Data transformation is the process of converting data from one format or structure into another format or structure. Transformers change pixel values but still keep almost the whole information of the image.[source](https://towardsdatascience.com/improves-cnn-performance-by-applying-data-transformation-bf86b3f4cef4) You can read more about them in the mentioned source. \n",
        "\n",
        "You are going to implement two different transformers from scratch. These transformers will be used once the data is loaded. "
      ],
      "metadata": {
        "id": "ts6-fBVqR5Wz"
      }
    },
    {
      "cell_type": "markdown",
      "source": [
        "### Resize \n",
        "This transformer recieves a tensor (3\\*x\\*y) and returns a tensor with shape (3\\*size\\*size)"
      ],
      "metadata": {
        "id": "qlwXkss8T_Nl"
      }
    },
    {
      "cell_type": "code",
      "source": [
        "class Resize(object):\n",
        "    \n",
        "    def __init__(self, size=50):\n",
        "        pass\n",
        "    #############################\n",
        "    #       Code here           #\n",
        "    #############################\n",
        "    \n",
        "  \n",
        "    def __call__(self, x):\n",
        "        '''\n",
        "        This function recieves a tensor and applies the resizing on that and returns that tensor\n",
        "        '''\n",
        "    #############################\n",
        "    #       Code here           #\n",
        "    #############################\n",
        "        return x"
      ],
      "metadata": {
        "id": "h8rup1dDXH8g"
      },
      "execution_count": null,
      "outputs": []
    },
    {
      "cell_type": "markdown",
      "source": [
        "### GrayScale\n",
        "This transform is helpful to decrease the number of channels, so the training gets faster. \n",
        "\n",
        "Feel free to add args to functions or change them if you need to!"
      ],
      "metadata": {
        "id": "WZMwzvqeXxP0"
      }
    },
    {
      "cell_type": "code",
      "source": [
        "class GrayScale(object):\n",
        "\n",
        "    def __init__(self):\n",
        "    #############################\n",
        "    #       Code here           #\n",
        "    #############################\n",
        "        pass\n",
        "\n",
        "    def __call__(self):\n",
        "    #############################\n",
        "    #       Code here           #\n",
        "    #############################\n",
        "        pass"
      ],
      "metadata": {
        "id": "vur0nw8-XwaV"
      },
      "execution_count": null,
      "outputs": []
    },
    {
      "cell_type": "markdown",
      "source": [
        "## Load Data and compose transforms \n",
        "You can combine Transforms using the **compose** method in the torchvision.transforms library."
      ],
      "metadata": {
        "id": "rHk3iYieamNT"
      }
    },
    {
      "cell_type": "code",
      "source": [
        "# Ddd the implemented transforms\n",
        "transform = transforms.Compose([\n",
        "    transforms.ToTensor(),\n",
        "    #############################\n",
        "    #         Code here         #\n",
        "    #############################\n",
        "\n",
        "])"
      ],
      "metadata": {
        "id": "8luiRZlObGFV"
      },
      "execution_count": null,
      "outputs": []
    },
    {
      "cell_type": "markdown",
      "source": [
        "Plot one random sample from each class of the datset:"
      ],
      "metadata": {
        "id": "TjhBHcIhdnso"
      }
    },
    {
      "cell_type": "code",
      "source": [
        "'''\n",
        "Hint:\n",
        "Get two random samples from files in each directory and use subplot to add those\n",
        "images to the plot. \n",
        "Use previously defined transform to test your transforms\n",
        "'''\n",
        "plt.figure(figsize=(11,11))\n",
        "for i, directory in enumerate(class_dirs):\n",
        "    # name of all files in the directory\n",
        "    files_name = os.listdir(f\"{main_dir}/{directory}\")\n",
        "    #############################\n",
        "    #         Code here         #\n",
        "    #############################\n"
      ],
      "metadata": {
        "id": "mCJ-pGHUo_8Y"
      },
      "execution_count": null,
      "outputs": []
    },
    {
      "cell_type": "markdown",
      "source": [
        "## Create Dataset \n",
        "Code for processing data samples can get messy and hard to maintain; we ideally want our dataset code to be decoupled from our model training code for better readability and modularity. [from [Pytorch Documentation](https://pytorch.org/tutorials/beginner/basics/data_tutorial.html)] \n",
        "\n",
        "In this section, you will implement a custom dataset which gets address of files and loads them as needed. "
      ],
      "metadata": {
        "id": "ad1fyyU7gjlb"
      }
    },
    {
      "cell_type": "code",
      "source": [
        "class ASLDataset(Dataset):\n",
        "    def __init__(self, files_address:list, transform=transform):\n",
        "        #############################\n",
        "        #         Code here         #\n",
        "        #############################\n",
        "        pass\n",
        "\n",
        "    def __len__(self):\n",
        "        # returns length of the data\n",
        "\n",
        "        #############################\n",
        "        #         Code here         #\n",
        "        #############################\n",
        "        return 0 \n",
        "\n",
        "    def __getitem__(self, idx):\n",
        "        # Hint: load image from files_address and the label from name of the directory \n",
        "        # Remember to apply transforms!\n",
        "        image = None\n",
        "        label = None\n",
        "        #############################\n",
        "        #         Code here         #\n",
        "        #############################\n",
        "        return image, label"
      ],
      "metadata": {
        "id": "d_SVD35Upz87"
      },
      "execution_count": null,
      "outputs": []
    },
    {
      "cell_type": "code",
      "source": [
        "files_addr, labels = get_files()\n",
        "print(len(labels), len(files_addr))"
      ],
      "metadata": {
        "colab": {
          "base_uri": "https://localhost:8080/"
        },
        "id": "e9fMgxwxrezk",
        "outputId": "fa5025e7-0c9b-466d-d5a8-596a02c8a95b"
      },
      "execution_count": 31,
      "outputs": [
        {
          "output_type": "stream",
          "name": "stdout",
          "text": [
            "2515 2515\n"
          ]
        }
      ]
    },
    {
      "cell_type": "markdown",
      "source": [
        "## Create Datasets  \n",
        "\n",
        "First split data to train, validation and test using the `train_test_split funciton`. Remember to shuffle data. Then create ASLDataset for each part of data. "
      ],
      "metadata": {
        "id": "7dRpz0h_u4lD"
      }
    },
    {
      "cell_type": "code",
      "source": [
        "#############################\n",
        "#         Code here         #\n",
        "#############################\n",
        "x_train, x_test, y_train, y_test = None, None, None, None\n",
        "x_train, x_val, y_train, y_val = None, None, None, None\n",
        "train_dataset = None\n",
        "val_dataset = None\n",
        "test_dataset = None\n"
      ],
      "metadata": {
        "id": "nknUhRi7urOj"
      },
      "execution_count": 32,
      "outputs": []
    },
    {
      "cell_type": "markdown",
      "source": [
        "Use datasets to create DataLoader from `torch.utils.DataLoader` class\n",
        "\n",
        "Note: You should make `shuffle=True` for the training dataLoader, so in each epoch the data reshuffles. "
      ],
      "metadata": {
        "id": "jSQvNX2zwfF7"
      }
    },
    {
      "cell_type": "code",
      "source": [
        "num_threads = 4\n",
        "\n",
        "#############################\n",
        "#         Code here         #\n",
        "#############################\n",
        "\n",
        "train_loader = None\n",
        "val_loader = None\n",
        "test_loader = None"
      ],
      "metadata": {
        "id": "NOeBG2l7w7S0"
      },
      "execution_count": null,
      "outputs": []
    },
    {
      "cell_type": "markdown",
      "source": [
        "## Define Model "
      ],
      "metadata": {
        "id": "CVV1mdA-xLVr"
      }
    },
    {
      "cell_type": "code",
      "source": [
        "class ASLModel(nn.Module):\n",
        "    def __init__(self, in_channels, num_classes):\n",
        "        super().__init__()\n",
        "        self.network = nn.Sequential(\n",
        "            #############################\n",
        "            #         Code here         #\n",
        "            #############################\n",
        "\n",
        "            )\n",
        "        \n",
        "    def forward(self, xb):\n",
        "        #############################\n",
        "        #         Code here         #\n",
        "        #############################\n",
        "        pass\n"
      ],
      "metadata": {
        "id": "dLgHG6efxNp9"
      },
      "execution_count": 37,
      "outputs": []
    },
    {
      "cell_type": "code",
      "source": [
        "in_channels = 3 \n",
        "num_classes = 36\n",
        "model = ASLModel(in_channels, num_classes).to(device)"
      ],
      "metadata": {
        "id": "c-5OU-EPxfIa"
      },
      "execution_count": 38,
      "outputs": []
    },
    {
      "cell_type": "markdown",
      "source": [
        "## Define optimizer, Criterion and other parameters \n"
      ],
      "metadata": {
        "id": "S4v3-QaYyQ3L"
      }
    },
    {
      "cell_type": "code",
      "source": [
        "#############################\n",
        "#         Code here         #\n",
        "#############################\n",
        "loss = None\n",
        "optimizer = None"
      ],
      "metadata": {
        "id": "sP13gupzycHd"
      },
      "execution_count": null,
      "outputs": []
    },
    {
      "cell_type": "code",
      "source": [
        "# Set parameters and hyper parameters\n",
        "batch_size = None\n",
        "learning_rate = None \n",
        "input_size = None "
      ],
      "metadata": {
        "id": "sYz0kDwwM-zy"
      },
      "execution_count": 114,
      "outputs": []
    },
    {
      "cell_type": "code",
      "source": [
        "best_model = None\n",
        "best_acc = 0\n",
        "\n",
        "def train_val (model, trainloader, val_loader, f_loss, optimizer, n_epochs, device = device):\n",
        "    train_loss_arr, val_loss_arr = [], []\n",
        "    train_acc_arr, val_acc_arr = [], []  \n",
        "    for epoch in range(n_epochs):\n",
        "        train_loss, val_loss = 0, 0\n",
        "        model.train()\n",
        "        #############################\n",
        "        #         Code here         #\n",
        "        #############################\n",
        "        ## Hint: Loop throught train_loader, get images with their labels and train the model\n",
        "        ## Hint 2: To update train_loss inside the loop use \"train_loss += batch_loss * batch_size\"\"\n",
        "        ## Hint 3: To update train_acc get the predicted label of each training data and compare with the real label\n",
        "    \n",
        "    \n",
        "        model.eval()\n",
        "        #############################\n",
        "        #         Code here         #\n",
        "        #############################\n",
        "        ## Hint: Loop throught val_loader, get images with their labels and evaluate the model\n",
        "        ## Hint 2: To update val_loss inside the loop use \"val_loss += batch_loss * batch_size\"\"\n",
        "        ## Hint 3: you have to keep the best model in the best_model variable to use it in the testing phase\n",
        "\n",
        "\n",
        "        train_loss /= len(train_loader.dataset)\n",
        "        val_loss /= len(val_loader.dataset)\n",
        "        train_loss_arr.append(train_loss)\n",
        "        val_loss_arr.append(val_loss)\n",
        "        #############################\n",
        "        #         Code here         #\n",
        "        #############################\n",
        "        # append accuracy of train and valid to the lists\n",
        "\n",
        "        print(f\"[Epoch {epoch}]\\t\"\n",
        "            f\"Train Loss: {train_loss:.3f}\\t\"\n",
        "            f\"Validation Loss: {val_loss:.3f}\")\n",
        "    return train_loss_arr, val_loss_arr, train_acc_arr, val_acc_arr"
      ],
      "metadata": {
        "id": "N5ga_FAmNVx-"
      },
      "execution_count": 116,
      "outputs": []
    },
    {
      "cell_type": "code",
      "source": [
        "# Call the train_val function"
      ],
      "metadata": {
        "id": "9icZtWj81J_l"
      },
      "execution_count": null,
      "outputs": []
    },
    {
      "cell_type": "markdown",
      "source": [
        "## Plot loss and accuracy\n",
        "\n",
        "You must have one plot for loss according to epoch for train/val.\n",
        "\n",
        "Also, another plot for accuracy according to epoch for train/val"
      ],
      "metadata": {
        "id": "ruKan1xf1UPk"
      }
    },
    {
      "cell_type": "code",
      "source": [
        "#############################\n",
        "#         Code here         #\n",
        "#############################"
      ],
      "metadata": {
        "id": "4X5wdTRH1Zl1"
      },
      "execution_count": null,
      "outputs": []
    },
    {
      "cell_type": "markdown",
      "source": [
        "## Evaluate model on the test dataset\n",
        "\n",
        "Evaluate your best model on the test dataset. You should get accuracy above ***%96*** for a full-mark.\n",
        "\n",
        "Remember to print the accuracy of model on the test dataset! "
      ],
      "metadata": {
        "id": "ANeI27ul2QGd"
      }
    },
    {
      "cell_type": "code",
      "source": [
        "#############################\n",
        "#         Code here         #\n",
        "#############################"
      ],
      "metadata": {
        "id": "skw5pGKO2NT0"
      },
      "execution_count": null,
      "outputs": []
    }
  ]
}